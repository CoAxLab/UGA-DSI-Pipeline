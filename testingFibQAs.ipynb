{
 "cells": [
  {
   "cell_type": "code",
   "execution_count": 4,
   "id": "1bba56a6",
   "metadata": {},
   "outputs": [],
   "source": [
    "import os\n",
    "import json\n",
    "import matplotlib.pyplot as plt\n",
    "import numpy as np\n",
    "import nibabel as nib\n",
    "import seaborn as sns\n",
    "\n",
    "pipelineDirectory = os.getcwd()\n",
    "qaDirectory = os.path.join(pipelineDirectory, 'tempIgnore')"
   ]
  },
  {
   "cell_type": "code",
   "execution_count": 6,
   "id": "e437be69",
   "metadata": {},
   "outputs": [],
   "source": [
    "files = os.listdir(qaDirectory)\n",
    "f = os.path.join(qaDirectory, files[0])"
   ]
  },
  {
   "cell_type": "code",
   "execution_count": 8,
   "id": "f97fe8d8",
   "metadata": {},
   "outputs": [],
   "source": [
    "object = nib.load(f)\n",
    "data = object.get_fdata()\n",
    "shape = data.shape"
   ]
  }
 ],
 "metadata": {
  "kernelspec": {
   "display_name": "base",
   "language": "python",
   "name": "python3"
  },
  "language_info": {
   "codemirror_mode": {
    "name": "ipython",
    "version": 3
   },
   "file_extension": ".py",
   "mimetype": "text/x-python",
   "name": "python",
   "nbconvert_exporter": "python",
   "pygments_lexer": "ipython3",
   "version": "3.9.18"
  }
 },
 "nbformat": 4,
 "nbformat_minor": 5
}
